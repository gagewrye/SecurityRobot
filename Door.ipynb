{
 "cells": [
  {
   "cell_type": "markdown",
   "metadata": {},
   "source": [
    "# Training a CNN to Identify if a door is open or closed"
   ]
  },
  {
   "cell_type": "markdown",
   "metadata": {},
   "source": [
    "## Part 1: Data Collection/Preparation:"
   ]
  },
  {
   "cell_type": "markdown",
   "metadata": {},
   "source": [
    "### Improvement options\n",
    "- Change layer amount in ResNet\n",
    "- Change training and validation data"
   ]
  },
  {
   "cell_type": "code",
   "execution_count": 1,
   "metadata": {},
   "outputs": [],
   "source": [
    "%matplotlib inline\n",
    "import matplotlib.pyplot as plt\n",
    "import torch\n",
    "from torchvision import datasets, transforms\n",
    "import pandas as pd\n",
    "import numpy as np\n",
    "import os"
   ]
  },
  {
   "cell_type": "markdown",
   "metadata": {},
   "source": [
    "Doing research into how to use pytorch to import images, I found the website below and used it to help figure out the process:\n",
    "https://debuggercafe.com/pytorch-imagefolder-for-training-cnn-models/"
   ]
  },
  {
   "cell_type": "markdown",
   "metadata": {},
   "source": [
    "I created a directory folder which contains all the data, separated into train and validation subdirectories. Since we want to determine if the door is open or closed, the train and validation directories each have open and closed subdirectores that have images of the door in open or closed position from various angles and lighting conditions."
   ]
  },
  {
   "cell_type": "code",
   "execution_count": 2,
   "metadata": {},
   "outputs": [],
   "source": [
    "dir = os.getcwd()\n",
    "Directory = os.path.join(dir, \"Door\")\n",
    "os.environ['KMP_DUPLICATE_LIB_OK'] = 'True'"
   ]
  },
  {
   "cell_type": "markdown",
   "metadata": {},
   "source": [
    "Below we load and save the training dataset and valid dataset. A transformation is applied to standardize the data into 224x224 pixel squares."
   ]
  },
  {
   "cell_type": "code",
   "execution_count": 3,
   "metadata": {},
   "outputs": [],
   "source": [
    "\n",
    "transformer = transforms.Compose([transforms.Resize(255),\n",
    "                                transforms.CenterCrop(224),\n",
    "                                transforms.ToTensor()\n",
    "                               ])\n",
    "\n",
    "\n",
    "train_dataset = datasets.ImageFolder(Directory + '/train', transform = transformer)\n",
    "valid_dataset = datasets.ImageFolder(Directory + '/valid', transform = transformer)\n"
   ]
  },
  {
   "cell_type": "code",
   "execution_count": 4,
   "metadata": {},
   "outputs": [],
   "source": [
    "valid_dataloader = torch.utils.data.DataLoader(valid_dataset, batch_size=16, shuffle=False, num_workers=4, pin_memory=True)\n",
    "train_dataloader = torch.utils.data.DataLoader(train_dataset, batch_size=16, shuffle=True, num_workers=4, pin_memory=True)"
   ]
  },
  {
   "cell_type": "markdown",
   "metadata": {},
   "source": [
    "I used stackoverflow to find out how to extract the features from the penultimate layer of a pretrained model. I forward propegate a test image through the model and extract the values at the final hidden layer.\n",
    "\n",
    "https://stackoverflow.com/questions/55083642/extract-features-from-last-hidden-layer-pytorch-resnet18\n",
    "\n",
    "To use the feature extractor, you must have a 4D tensor. We don't have a batch size with the image, so we only have a 3D tensor. We can fix this by applying unsqueeze to the images. Unsqueeze(img,0) adds an extra dimension to the tensor where the batch size would be, essentially adding a batch size of 1.\n",
    "\n",
    "https://pytorch.org/docs/stable/generated/torch.unsqueeze.html\n",
    "\n",
    "After extracting the features, we can use torch.squeeze() to remove all of the arrays that have a single entry. This will remove the batch dimension that we added earlier and the pixel dimensions as well. We now have a 1D tensor with just the images features and  add it to the array.\n",
    "\n",
    "https://numpy.org/doc/stable/reference/generated/numpy.squeeze.html"
   ]
  },
  {
   "cell_type": "code",
   "execution_count": 5,
   "metadata": {},
   "outputs": [],
   "source": [
    "import torchvision.models as models\n",
    "\n",
    "def prepare_data(model, train_dataset, valid_dataset):\n",
    "    \n",
    "    # Initialize the feature extractor and get feature size\n",
    "    feature_extractor = torch.nn.Sequential(*list(model.children())[:-1])\n",
    "    with torch.no_grad():\n",
    "        test_feature_set = feature_extractor(torch.randn(1,3,224,224))\n",
    "        feature_size = np.prod(np.array(test_feature_set.shape)[1:])\n",
    "        \n",
    "    num_train_samples = len(train_dataset)\n",
    "    num_valid_samples = len(valid_dataset)  \n",
    "\n",
    "    # Pre-allocate arrays for features and labels\n",
    "    training_features = np.zeros((num_train_samples, feature_size))\n",
    "    training_labels = np.zeros(num_train_samples)\n",
    "    valid_features = np.zeros((num_valid_samples, feature_size))\n",
    "    valid_labels = np.zeros(num_valid_samples)\n",
    "\n",
    "    # Extract features and labels for training set\n",
    "    for i, (images, labels) in enumerate(train_dataset):\n",
    "        with torch.no_grad():\n",
    "            # remove everything except features\n",
    "            output = feature_extractor(images.unsqueeze(0))\n",
    "            output = torch.squeeze(output)\n",
    "        # Convert the output tensor into a numpy array\n",
    "        training_features[i] = output.numpy()\n",
    "        training_labels[i] = labels\n",
    "\n",
    "    # Extract features and labels for validation set\n",
    "    for i, (images, labels) in enumerate(valid_dataset):\n",
    "        with torch.no_grad():\n",
    "            output = feature_extractor(images.unsqueeze(0))\n",
    "            output = torch.squeeze(output)\n",
    "        valid_features[i] = output.numpy()\n",
    "        valid_labels[i] = labels\n",
    "        \n",
    "    return training_features, training_labels, valid_features, valid_labels"
   ]
  },
  {
   "cell_type": "code",
   "execution_count": 6,
   "metadata": {},
   "outputs": [],
   "source": [
    "def plot_losses(train_loss, val_loss):\n",
    "    # Number of epochs can be calculated as the length of one of these lists\n",
    "    num_epochs = len(train_loss)\n",
    "\n",
    "    # Plotting\n",
    "    plt.plot(range(num_epochs), train_loss, label='Train Loss')\n",
    "    plt.plot(range(num_epochs), val_loss, label='Validation Loss')\n",
    "    plt.xlabel('Epochs')\n",
    "    plt.ylabel('Loss')\n",
    "    plt.legend()\n",
    "    plt.show()"
   ]
  },
  {
   "cell_type": "code",
   "execution_count": 7,
   "metadata": {},
   "outputs": [],
   "source": [
    "import torch\n",
    "import torch.nn as nn\n",
    "\n",
    "def train_cnn(model, train_dataset, train_dataloader, valid_dataloader, lr, num_epochs=5):\n",
    "    \n",
    "    # Check if CUDA is available and set the device accordingly\n",
    "    device = torch.device(\"cuda\" if torch.cuda.is_available() else \"cpu\")\n",
    "    print(f\"Using device: {device}\")\n",
    "\n",
    "    # Move the model to the specified device\n",
    "    model = model.to(device)\n",
    "\n",
    "    # Replace the fully connected layer to adapt model\n",
    "    num_ftrs = model.fc.in_features\n",
    "    model.fc = nn.Linear(num_ftrs, len(train_dataset.classes)).to(device)  # Change output layer and move to device\n",
    "    \n",
    "    # Loss function and optimizer\n",
    "    criterion = nn.CrossEntropyLoss()\n",
    "    optimizer = torch.optim.SGD(model.fc.parameters(), lr, momentum=0.9)\n",
    "    \n",
    "    # Training loop\n",
    "    train_losses = []\n",
    "    valid_losses = []\n",
    "    \n",
    "    for epoch in range(num_epochs):\n",
    "        model.train()\n",
    "        epoch_train_loss = 0\n",
    "        for images, labels in train_dataloader:\n",
    "            # Move images and labels to the same device as the model\n",
    "            images, labels = images.to(device), labels.to(device)\n",
    "\n",
    "            # Zero the parameter gradients\n",
    "            optimizer.zero_grad()\n",
    "\n",
    "            # Forward pass\n",
    "            outputs = model(images)\n",
    "\n",
    "            # Calculate loss\n",
    "            loss = criterion(outputs, labels)\n",
    "            epoch_train_loss += loss.item()\n",
    "\n",
    "            # Backward pass and optimization\n",
    "            loss.backward()\n",
    "            optimizer.step()\n",
    "            \n",
    "        train_losses.append(epoch_train_loss / len(train_dataloader))\n",
    "        \n",
    "        # Validation\n",
    "        model.eval()\n",
    "        correct = 0\n",
    "        total = 0\n",
    "        epoch_valid_loss = 0\n",
    "        with torch.no_grad():\n",
    "            for images, labels in valid_dataloader:\n",
    "                # Move images and labels to the same device as the model\n",
    "                images, labels = images.to(device), labels.to(device)\n",
    "\n",
    "                outputs = model(images)\n",
    "                loss = criterion(outputs, labels)\n",
    "                epoch_valid_loss += loss.item()\n",
    "                _, predicted = torch.max(outputs.data, 1)\n",
    "                total += labels.size(0)\n",
    "                correct += (predicted == labels).sum().item()\n",
    "        \n",
    "        valid_losses.append(epoch_valid_loss / len(valid_dataloader))\n",
    "        print(f'Epoch {epoch+1}, Accuracy: {100 * correct / total}')\n",
    "        \n",
    "    return train_losses, valid_losses\n"
   ]
  },
  {
   "cell_type": "code",
   "execution_count": 8,
   "metadata": {
    "scrolled": true
   },
   "outputs": [
    {
     "name": "stderr",
     "output_type": "stream",
     "text": [
      "c:\\Users\\gwrye\\anaconda3\\Lib\\site-packages\\torchvision\\models\\_utils.py:208: UserWarning: The parameter 'pretrained' is deprecated since 0.13 and may be removed in the future, please use 'weights' instead.\n",
      "  warnings.warn(\n",
      "c:\\Users\\gwrye\\anaconda3\\Lib\\site-packages\\torchvision\\models\\_utils.py:223: UserWarning: Arguments other than a weight enum or `None` for 'weights' are deprecated since 0.13 and may be removed in the future. The current behavior is equivalent to passing `weights=ResNet18_Weights.IMAGENET1K_V1`. You can also use `weights=ResNet18_Weights.DEFAULT` to get the most up-to-date weights.\n",
      "  warnings.warn(msg)\n"
     ]
    },
    {
     "name": "stdout",
     "output_type": "stream",
     "text": [
      "Using device: cuda\n",
      "Epoch 1, Accuracy: 80.3921568627451\n",
      "Epoch 2, Accuracy: 100.0\n",
      "Epoch 3, Accuracy: 100.0\n",
      "Epoch 4, Accuracy: 94.11764705882354\n",
      "Epoch 5, Accuracy: 96.07843137254902\n"
     ]
    }
   ],
   "source": [
    "model = models.resnet18(pretrained=True)\n",
    "train_losses, valid_losses = train_cnn(model, train_dataset, train_dataloader, valid_dataloader, 0.01)"
   ]
  },
  {
   "cell_type": "code",
   "execution_count": 9,
   "metadata": {},
   "outputs": [
    {
     "data": {
      "image/png": "[encoded data removed]",
      "text/plain": [
       "<Figure size 640x480 with 1 Axes>"
      ]
     },
     "metadata": {},
     "output_type": "display_data"
    }
   ],
   "source": [
    "plot_losses(train_losses, valid_losses)"
   ]
  },
  {
   "cell_type": "markdown",
   "metadata": {},
   "source": [
    "We achieve 100% accuracy on the validation dataset on epoch 2 and 3. This is reflected in our validation loss being close to 0 for those epochs.\n",
    "\n",
    "It seems like overfitting starts happening on the 4th epoch, because the validation loss increases and the training loss decreases. We can tweak this by just training the model less and stopping when 100% validation accuracy is reached."
   ]
  },
  {
   "cell_type": "code",
   "execution_count": 10,
   "metadata": {},
   "outputs": [
    {
     "name": "stdout",
     "output_type": "stream",
     "text": [
      "Using device: cuda\n",
      "Epoch 1, Accuracy: 94.11764705882354\n",
      "Epoch 2, Accuracy: 90.19607843137256\n",
      "Epoch 3, Accuracy: 100.0\n"
     ]
    }
   ],
   "source": [
    "model = models.resnet18(pretrained=True)\n",
    "train_losses, valid_losses = train_cnn(model, train_dataset, train_dataloader, valid_dataloader, 0.01, 3)"
   ]
  },
  {
   "cell_type": "code",
   "execution_count": 11,
   "metadata": {},
   "outputs": [
    {
     "data": {
      "image/png": "[encoded data removed]",
      "text/plain": [
       "<Figure size 640x480 with 1 Axes>"
      ]
     },
     "metadata": {},
     "output_type": "display_data"
    }
   ],
   "source": [
    "plot_losses(train_losses, valid_losses)"
   ]
  },
  {
   "cell_type": "markdown",
   "metadata": {},
   "source": [
    "### Export the model"
   ]
  },
  {
   "cell_type": "code",
   "execution_count": 14,
   "metadata": {},
   "outputs": [
    {
     "name": "stdout",
     "output_type": "stream",
     "text": [
      "Model saved to c:\\Users\\gwrye\\OneDrive\\Documents\\GitHub\\SecurityRobot\\Models/doorModel.onnx\n"
     ]
    }
   ],
   "source": [
    "import torch.onnx\n",
    "\n",
    "# Set the model to evaluation mode\n",
    "model.eval()\n",
    "\n",
    "# Move to cpu for export\n",
    "model.to('cpu')\n",
    "\n",
    "dummy_input = torch.randn(1, 3, 224, 224)\n",
    "\n",
    "# Define the path for the ONNX file\n",
    "onnx_path = os.path.join(dir, \"Models/doorModel.onnx\")\n",
    "\n",
    "# Export the model\n",
    "torch.onnx.export(model,               \n",
    "                  dummy_input,         \n",
    "                  onnx_path,           # where to save the model\n",
    "                  export_params=True,  # store the trained parameter weights inside the model file\n",
    "                  opset_version=10,    # the ONNX version to export the model to\n",
    "                  do_constant_folding=True,\n",
    "                  input_names = ['modelInput'], \n",
    "                  output_names = ['modelOutput'],\n",
    "                  dynamic_axes={'modelInput' : {0 : 'batch_size'},    # variable length axes\n",
    "                                'modelOutput' : {0 : 'batch_size'}})\n",
    "\n",
    "print(f\"Model saved to {onnx_path}\")\n"
   ]
  }
 ],
 "metadata": {
  "kernelspec": {
   "display_name": "base",
   "language": "python",
   "name": "python3"
  },
  "language_info": {
   "codemirror_mode": {
    "name": "ipython",
    "version": 3
   },
   "file_extension": ".py",
   "mimetype": "text/x-python",
   "name": "python",
   "nbconvert_exporter": "python",
   "pygments_lexer": "ipython3",
   "version": "3.11.5"
  }
 },
 "nbformat": 4,
 "nbformat_minor": 2
}
